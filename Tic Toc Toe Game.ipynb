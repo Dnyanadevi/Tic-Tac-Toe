{
 "cells": [
  {
   "cell_type": "markdown",
   "id": "4850408f-0634-4a16-9639-4d2ad7ee2ae8",
   "metadata": {},
   "source": [
    "# Tic Tac Toe"
   ]
  },
  {
   "cell_type": "markdown",
   "id": "ba4a547f-1140-4d25-b48e-b3ad56d877c3",
   "metadata": {},
   "source": [
    "# Step 1"
   ]
  },
  {
   "cell_type": "code",
   "execution_count": 1,
   "id": "0f02016d-24fb-4699-9f03-12eaf8f964ec",
   "metadata": {},
   "outputs": [],
   "source": [
    "board = ['#','#','#','#','#','#','#','#','#','#',]"
   ]
  },
  {
   "cell_type": "code",
   "execution_count": 2,
   "id": "eedc5030-94da-4ad6-8706-60fadb37da9a",
   "metadata": {},
   "outputs": [],
   "source": [
    "from IPython.display import clear_output\n",
    "clear_output()\n",
    "def display_board(board):\n",
    "    blankBoard=\"\"\"\n",
    "______________________    \n",
    "|     |     |     | \n",
    "|  7  |  8  |  9  |\n",
    "|     |     |     |\n",
    "|-----------------|\n",
    "|     |     |     |\n",
    "|  4  |  5  |  6  |\n",
    "|     |     |     |\n",
    "|-----------------|\n",
    "|     |     |     |\n",
    "|  1  |  2  |  3  |\n",
    "|     |     |     |\n",
    "|-----|-----|-----|\n",
    "\"\"\"\n",
    "    for i in range(1,10):\n",
    "        if (board[i] == 'X' or board[i] == 'O'):\n",
    "            blankBoard = blankBoard.replace(str(i), board[i])\n",
    "        else:\n",
    "            blankBoard = blankBoard.replace(str(i), ' ')\n",
    "    print(blankBoard)"
   ]
  },
  {
   "cell_type": "markdown",
   "id": "3ebfa9f6-ca78-4e64-82bc-658f65d23fce",
   "metadata": {},
   "source": [
    "# Step 2"
   ]
  },
  {
   "cell_type": "code",
   "execution_count": 3,
   "id": "94430e53-ad1b-41d6-b296-b9572b92ae86",
   "metadata": {},
   "outputs": [],
   "source": [
    "def player_input():\n",
    "    player1 = input(\"Please pick a marker 'X' or 'O' \")\n",
    "    while True:\n",
    "        if player1.upper() == 'X':\n",
    "            player2='O'\n",
    "            print(\"You've choosen \" + player1 + \". Player 2 will be \" + player2)\n",
    "            return player1.upper(),player2\n",
    "        elif player1.upper() == 'O':\n",
    "            player2='X'\n",
    "            print(\"You've choosen \" + player1 + \". Player 2 will be \" + player2)\n",
    "            return player1.upper(),player2\n",
    "        else:\n",
    "            player1 = input(\"Please pick a marker 'X' or 'O' \")\n"
   ]
  },
  {
   "cell_type": "markdown",
   "id": "a26b509b-dac0-4823-8b80-8c9c9c5b61c0",
   "metadata": {},
   "source": [
    "# Step 3"
   ]
  },
  {
   "cell_type": "code",
   "execution_count": 4,
   "id": "8f21e6e2-18b6-461e-ae9e-5bc240605ce4",
   "metadata": {},
   "outputs": [],
   "source": [
    "def place_marker(board, marker, position):\n",
    "    board[position] = marker\n",
    "    return board"
   ]
  },
  {
   "cell_type": "markdown",
   "id": "de9d3ba1-700f-4992-bd10-9e811aa1962b",
   "metadata": {},
   "source": [
    "# step 4"
   ]
  },
  {
   "cell_type": "code",
   "execution_count": 5,
   "id": "bbbe888b-c21a-4450-bc15-9c7e101b4a38",
   "metadata": {},
   "outputs": [],
   "source": [
    "def space_check(board, position):\n",
    "    return board[position] == '#'"
   ]
  },
  {
   "cell_type": "markdown",
   "id": "136648ab-df83-4fc2-a2be-f4847838f901",
   "metadata": {},
   "source": [
    "# Step 5"
   ]
  },
  {
   "cell_type": "code",
   "execution_count": 6,
   "id": "83f54bc4-28dc-4166-8d91-12e52c309034",
   "metadata": {},
   "outputs": [],
   "source": [
    "def full_board_check(board):\n",
    "    return len([x for x in board if x == '#']) == 1\n"
   ]
  },
  {
   "cell_type": "markdown",
   "id": "fbb21717-9498-4864-a28c-49bfadf9bbfc",
   "metadata": {},
   "source": [
    "# Step 6"
   ]
  },
  {
   "cell_type": "code",
   "execution_count": 7,
   "id": "c143ea20-9baf-4350-be87-95ce8ca0c910",
   "metadata": {},
   "outputs": [],
   "source": [
    "def win_check(board, mark):\n",
    "    if board[1] == board[2] == board[3] == mark:\n",
    "        return True\n",
    "    if board[4] == board[5] == board[6] == mark:\n",
    "        return True\n",
    "    if board[7] == board[8] == board[9] == mark:\n",
    "        return True\n",
    "    if board[1] == board[4] == board[7] == mark:\n",
    "        return True\n",
    "    if board[2] == board[5] == board[8] == mark:\n",
    "        return True\n",
    "    if board[3] == board[6] == board[9] == mark:\n",
    "        return True\n",
    "    if board[1] == board[5] == board[9] == mark:\n",
    "        return True\n",
    "    if board[3] == board[5] == board[7] == mark:\n",
    "        return True\n",
    "\n",
    "    return False"
   ]
  },
  {
   "cell_type": "markdown",
   "id": "3f54e98a-3ce0-4de4-82f6-884a0babe6bc",
   "metadata": {},
   "source": [
    "# Step 7"
   ]
  },
  {
   "cell_type": "code",
   "execution_count": 8,
   "id": "87536a06-18fb-44da-ab93-bce14c3425e8",
   "metadata": {},
   "outputs": [],
   "source": [
    "def player_choice(board):\n",
    "    choice = input(\"Please select an empty space between 1 and 9 : \")\n",
    "    while not space_check(board, int(choice)):\n",
    "        choice = input(\"This space isn't free. Please choose between 1 and 9 : \")\n",
    "    return choice\n"
   ]
  },
  {
   "cell_type": "markdown",
   "id": "b0e2bcec-2cde-441e-afef-27c21b89979c",
   "metadata": {},
   "source": [
    "# Step 8"
   ]
  },
  {
   "cell_type": "code",
   "execution_count": 9,
   "id": "8157d3ba-f40e-4887-94f5-2b5c1df4a3f4",
   "metadata": {},
   "outputs": [],
   "source": [
    "def replay():\n",
    "    playAgain = input(\"Do you want to play again (y/n) ? \")\n",
    "    if playAgain.lower() == 'y':\n",
    "        return True\n",
    "    if playAgain.lower() == 'n':\n",
    "        return False\n",
    "    else:\n",
    "        return playAgain"
   ]
  },
  {
   "cell_type": "markdown",
   "id": "b8cf9791-1a08-4536-9cf1-862385a3350c",
   "metadata": {},
   "source": [
    "# Step 9"
   ]
  },
  {
   "cell_type": "code",
   "execution_count": 11,
   "id": "acea95f2-2d30-477c-bdf9-728de8d2b420",
   "metadata": {},
   "outputs": [
    {
     "name": "stdout",
     "output_type": "stream",
     "text": [
      "Welcome to Tic Tac Toe!\n"
     ]
    },
    {
     "name": "stdin",
     "output_type": "stream",
     "text": [
      "Please pick a marker 'X' or 'O'  x\n"
     ]
    },
    {
     "name": "stdout",
     "output_type": "stream",
     "text": [
      "You've choosen x. Player 2 will be O\n"
     ]
    },
    {
     "name": "stdin",
     "output_type": "stream",
     "text": [
      "Please select an empty space between 1 and 9 :  9\n"
     ]
    },
    {
     "name": "stdout",
     "output_type": "stream",
     "text": [
      "\n",
      "______________________    \n",
      "|     |     |     | \n",
      "|     |     |  X  |\n",
      "|     |     |     |\n",
      "|-----------------|\n",
      "|     |     |     |\n",
      "|     |     |     |\n",
      "|     |     |     |\n",
      "|-----------------|\n",
      "|     |     |     |\n",
      "|     |     |     |\n",
      "|     |     |     |\n",
      "|-----|-----|-----|\n",
      "\n"
     ]
    },
    {
     "name": "stdin",
     "output_type": "stream",
     "text": [
      "Please select an empty space between 1 and 9 :  2\n"
     ]
    },
    {
     "name": "stdout",
     "output_type": "stream",
     "text": [
      "\n",
      "______________________    \n",
      "|     |     |     | \n",
      "|     |     |  X  |\n",
      "|     |     |     |\n",
      "|-----------------|\n",
      "|     |     |     |\n",
      "|     |     |     |\n",
      "|     |     |     |\n",
      "|-----------------|\n",
      "|     |     |     |\n",
      "|     |  O  |     |\n",
      "|     |     |     |\n",
      "|-----|-----|-----|\n",
      "\n"
     ]
    },
    {
     "name": "stdin",
     "output_type": "stream",
     "text": [
      "Please select an empty space between 1 and 9 :  5\n"
     ]
    },
    {
     "name": "stdout",
     "output_type": "stream",
     "text": [
      "\n",
      "______________________    \n",
      "|     |     |     | \n",
      "|     |     |  X  |\n",
      "|     |     |     |\n",
      "|-----------------|\n",
      "|     |     |     |\n",
      "|     |  X  |     |\n",
      "|     |     |     |\n",
      "|-----------------|\n",
      "|     |     |     |\n",
      "|     |  O  |     |\n",
      "|     |     |     |\n",
      "|-----|-----|-----|\n",
      "\n"
     ]
    },
    {
     "name": "stdin",
     "output_type": "stream",
     "text": [
      "Please select an empty space between 1 and 9 :  3\n"
     ]
    },
    {
     "name": "stdout",
     "output_type": "stream",
     "text": [
      "\n",
      "______________________    \n",
      "|     |     |     | \n",
      "|     |     |  X  |\n",
      "|     |     |     |\n",
      "|-----------------|\n",
      "|     |     |     |\n",
      "|     |  X  |     |\n",
      "|     |     |     |\n",
      "|-----------------|\n",
      "|     |     |     |\n",
      "|     |  O  |  O  |\n",
      "|     |     |     |\n",
      "|-----|-----|-----|\n",
      "\n"
     ]
    },
    {
     "name": "stdin",
     "output_type": "stream",
     "text": [
      "Please select an empty space between 1 and 9 :  1\n"
     ]
    },
    {
     "name": "stdout",
     "output_type": "stream",
     "text": [
      "\n",
      "______________________    \n",
      "|     |     |     | \n",
      "|     |     |  X  |\n",
      "|     |     |     |\n",
      "|-----------------|\n",
      "|     |     |     |\n",
      "|     |  X  |     |\n",
      "|     |     |     |\n",
      "|-----------------|\n",
      "|     |     |     |\n",
      "|  X  |  O  |  O  |\n",
      "|     |     |     |\n",
      "|-----|-----|-----|\n",
      "\n",
      "You won !\n"
     ]
    },
    {
     "name": "stdin",
     "output_type": "stream",
     "text": [
      "Do you want to play again (y/n) ?  n\n"
     ]
    }
   ],
   "source": [
    "\n",
    "print('Welcome to Tic Tac Toe!')\n",
    "i = 1\n",
    "# Choose your side\n",
    "players=player_input()\n",
    "# Empty board init\n",
    "board = ['#'] * 10\n",
    "while True:\n",
    "    # Set the game up here\n",
    "    game_on=full_board_check(board)\n",
    "    while not game_on:\n",
    "        # Player to choose where to put the mark\n",
    "        position = player_choice(board)\n",
    "        # Who's playin ?\n",
    "        if i % 2 == 0:\n",
    "            marker = players[1]\n",
    "        else:\n",
    "            marker = players[0]\n",
    "        # Play !\n",
    "        place_marker(board, marker, int(position))\n",
    "        # Check the board\n",
    "        display_board(board)\n",
    "        i += 1\n",
    "        if win_check(board, marker):\n",
    "            print(\"You won !\")\n",
    "            break\n",
    "        game_on=full_board_check(board)\n",
    "    if not replay():\n",
    "        break\n",
    "    else:\n",
    "        i = 1\n",
    "        # Choose your side\n",
    "        players=player_input()\n",
    "        # Empty board init\n",
    "        board = ['#'] * 10"
   ]
  },
  {
   "cell_type": "code",
   "execution_count": null,
   "id": "d4b62412-04a5-4118-97f5-55648109a001",
   "metadata": {},
   "outputs": [],
   "source": []
  }
 ],
 "metadata": {
  "kernelspec": {
   "display_name": "Python 3 (ipykernel)",
   "language": "python",
   "name": "python3"
  },
  "language_info": {
   "codemirror_mode": {
    "name": "ipython",
    "version": 3
   },
   "file_extension": ".py",
   "mimetype": "text/x-python",
   "name": "python",
   "nbconvert_exporter": "python",
   "pygments_lexer": "ipython3",
   "version": "3.9.7"
  }
 },
 "nbformat": 4,
 "nbformat_minor": 5
}
